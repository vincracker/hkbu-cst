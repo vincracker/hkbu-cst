{
 "cells": [
  {
   "cell_type": "markdown",
   "metadata": {},
   "source": [
    "# Register Token Contract"
   ]
  },
  {
   "cell_type": "code",
   "execution_count": 3,
   "metadata": {},
   "outputs": [],
   "source": [
    "import pyvsystems as pv\n",
    "from pyvsystems import Account\n",
    "from pyvsystems import Contract\n",
    "from pyvsystems import DataEntry, Type\n",
    "from pyvsystems.crypto import base58, bytes2str\n",
    "from pyvsystems.contract import token_id_from_contract_id\n",
    "from pyvsystems.setting import Contract_Token_Without_Split, Contract_Token_With_Split\n",
    "from pyvsystems.setting import Contract_Payment_Channel\n",
    "import struct"
   ]
  },
  {
   "cell_type": "code",
   "execution_count": 4,
   "metadata": {},
   "outputs": [],
   "source": [
    "# Initialize API connection. API key is needed if you intend to interact with the node's database.\n",
    "custom_wrapper = pv.create_api_wrapper('https://test.v.systems/api', api_key='cwx822954')\n",
    "chain = pv.Chain(chain_name='testnet', chain_id='T', address_version=5, api_wrapper=custom_wrapper)\n",
    "sender = Account(chain=chain, seed='same pass grape parade easy script pill quantum output olympic pluck budget work service dumb', nonce=0)"
   ]
  },
  {
   "cell_type": "code",
   "execution_count": 5,
   "metadata": {},
   "outputs": [],
   "source": [
    "token_contract_with_split = Contract(Contract_Token_With_Split)"
   ]
  },
  {
   "cell_type": "code",
   "execution_count": 6,
   "metadata": {},
   "outputs": [
    {
     "data": {
      "text/plain": [
       "{'type': 8,\n",
       " 'id': 'HueEY95mAenb74A2Fj9rgSnG9PSdi7v2wmfxecqkRQET',\n",
       " 'fee': 10000000000,\n",
       " 'feeScale': 100,\n",
       " 'timestamp': 1612427587743294976,\n",
       " 'proofs': [{'proofType': 'Curve25519',\n",
       "   'publicKey': '2Xi2mQNA6v4hyiu4D2NHvrrJN49AtCfvmSr3SR7HKH5h',\n",
       "   'address': 'ATroRHz2UHJz7LL5EVD877jZMLPra6XWyJU',\n",
       "   'signature': '5kfJb8WBr4THTYzN2ALWWP6w4JnLCEYQaCyQWX58MKyf6XZ5mAgAWNyRRfoTwrupw8cqdgkndHPkkbJgeAsoTt4z'}],\n",
       " 'contractId': 'CFBc4xYdagNWECuim1f5vbA2AgsXU3hai5L',\n",
       " 'contract': {'languageCode': 'vdds',\n",
       "  'languageVersion': 1,\n",
       "  'triggers': ['111111CktRzdj615GhYiN5qtRjzxwE8jypDwGbQV9iXn8NK3o'],\n",
       "  'descriptors': ['1111112EP7Gb96dj5VLAcfpEDiaTeapNEfczB',\n",
       "   '1bbn7XmN81WxPGPpdCtU38xMGvgaUbnrASoSQf',\n",
       "   '12CCZE4Xi2itkMk8zE87pKF1mN8U311U2Bq99jV',\n",
       "   '1QWywjfJS2CDokeThm2PVEKPzag9nouQ72jYj',\n",
       "   '1N9hmWGg5UN8zHMrtrxMWFND6pUMLhAGg',\n",
       "   '131h1vYVUznedmBCAvcPqzW6Ewx5xvXF4fB',\n",
       "   '13R2cuenmhy573wnHtSch5h2jSJQ3hS6h1B',\n",
       "   '13pNDtm64QxxY3tNu8tVZiwUAPB8TP9cVs7',\n",
       "   '1VXrvftSE5dDWxAQwUHSpM3jdx2FR',\n",
       "   '1Z6ifdCDh5xNbucPnydpgg2nbfS3R',\n",
       "   '1Cyp7C43k4foxpiwcrr33L3mCEKxLsoe',\n",
       "   '13zAHzf98UyzPAVrFiE8sQLcUX6EcSK'],\n",
       "  'stateVariables': ['13', '5T'],\n",
       "  'textual': {'triggers': '124VnyFU9tQUn4Z19KBbV8aAQF4aCgWrQWrLL1yK5RpWY2sU74P8GU6wJ6dwyuFHP3Xt5Kmpm',\n",
       "   'descriptors': '1RypGiL5eNbDESxn2SVM8HrLF6udvXV6YmwvFsp4fLJfRcr7nQuVFMvXn6KmWJeq8c53tdrutZcsQA2zyHb8Wj1tQUjGmitP6kLzcnpQXEq7AUZpMT6j7LCrhJvs3oLCCr7SSpz3h4iJJJg9WuL7Acbsw1x2AK4tRSZWXyrnLgqWhgqbTdfmxFGHjD58XrScBibJ9AUwEWCAeAna3NFofSZaSDxFJAK2adrrHhJdktQCQobMJMmC164HtJKF569naoMREkncYedQwXWk4uyPzGTUKsfXFwLaR77wv8gtNEjqwvGtpdFJELyJ3RC2F7exhqiiVxTaoGrAanuv1bianVbKqPAygPaGrhA1H3JmQWksNhg6q7dtPvBuqWDqDs4DkhV35JhNFeiER18o49pxX8zR1n1jvis6QrU2cD1Cn3yXwSZaW8TXWMKZ7ULRo1UcJykQvQCLq3EBVfzf6iULhuRagTnJ3Sq4tFSxgnNPhATLDreQpEe1BA3SfRWKRskLFjXV5aMeYxgFLfqYEFJ37BaRVyFZDSUgrKLMnNzrZZG2P81t7MhT6GpDApLZkNtjdGRMQGFsRN2azGruQReFnXeB3mScaxgfhGxcu9B',\n",
       "   'stateVariables': '1FKqt4aNuTwK15xVSfjkwT'}},\n",
       " 'initData': '12DHfyuGpP5APwN11KwAmmsZr3iTMgMj1PZ',\n",
       " 'description': ''}"
      ]
     },
     "execution_count": 6,
     "metadata": {},
     "output_type": "execute_result"
    }
   ],
   "source": [
    "max_amount_data_entry = DataEntry(100000, Type.amount)\n",
    "unity_data_entry = DataEntry(10, Type.amount)\n",
    "description_data_entry = DataEntry(\"LOL\", Type.short_text)\n",
    "\n",
    "init_data_stack = [max_amount_data_entry, unity_data_entry, description_data_entry]\n",
    "\n",
    "sender.register_contract(token_contract_with_split, init_data_stack)"
   ]
  },
  {
   "cell_type": "code",
   "execution_count": 7,
   "metadata": {},
   "outputs": [
    {
     "data": {
      "text/plain": [
       "{'type': 9,\n",
       " 'id': 'H3yFHHB6B1c2goVrCcbiPHLJVTbgooXvpNGu3wSfBo31',\n",
       " 'fee': 30000000,\n",
       " 'feeScale': 100,\n",
       " 'timestamp': 1612427589128527104,\n",
       " 'proofs': [{'proofType': 'Curve25519',\n",
       "   'publicKey': '2Xi2mQNA6v4hyiu4D2NHvrrJN49AtCfvmSr3SR7HKH5h',\n",
       "   'address': 'ATroRHz2UHJz7LL5EVD877jZMLPra6XWyJU',\n",
       "   'signature': 'hMPXAGyc2Z5ZgsNhdmCbrSLyk4TrnBs9tAiZVdEZQRpWG8X3cRNm3YFUtmvmAdGKpRfxwb8Xr4GPVhpg5pppp26'}],\n",
       " 'contractId': 'CEx4gTxV1Xt2SY3zM8kStMnLr27ZYKUnkHB',\n",
       " 'functionIndex': 3,\n",
       " 'functionData': '14JDCrdo1xwsuu',\n",
       " 'attachment': ''}"
      ]
     },
     "execution_count": 7,
     "metadata": {},
     "output_type": "execute_result"
    }
   ],
   "source": [
    "new_unity_data_entry = DataEntry(100, Type.amount)\n",
    "\n",
    "split_data_stack = [new_unity_data_entry]\n",
    "sender.execute_contract(\"CEx4gTxV1Xt2SY3zM8kStMnLr27ZYKUnkHB\", 3, new_unity_data_entry)"
   ]
  },
  {
   "cell_type": "code",
   "execution_count": null,
   "metadata": {},
   "outputs": [],
   "source": []
  },
  {
   "cell_type": "code",
   "execution_count": 8,
   "metadata": {},
   "outputs": [],
   "source": [
    "contract = Contract(Contract_Payment_Channel)"
   ]
  },
  {
   "cell_type": "code",
   "execution_count": 11,
   "metadata": {},
   "outputs": [
    {
     "data": {
      "text/plain": [
       "{'type': 8,\n",
       " 'id': 'HMu5x5JYtRWH4URPWdtnguc9aEkQZVQ9nfrv7FHCrEDs',\n",
       " 'fee': 10000000000,\n",
       " 'feeScale': 100,\n",
       " 'timestamp': 1612427606402379008,\n",
       " 'proofs': [{'proofType': 'Curve25519',\n",
       "   'publicKey': '2Xi2mQNA6v4hyiu4D2NHvrrJN49AtCfvmSr3SR7HKH5h',\n",
       "   'address': 'ATroRHz2UHJz7LL5EVD877jZMLPra6XWyJU',\n",
       "   'signature': '4BQE4Hgn9KS5R8q3KLKoCnMiVyjo7yGAtEemmP3RMrMg3eXiCucVa1SV2ntZx3rEkUk18UtqNrGmfutzJCBQhfLy'}],\n",
       " 'contractId': 'CF5ordVa4g81wy2eoaxxUhC7ppGNYS8LWV1',\n",
       " 'contract': {'languageCode': 'vdds',\n",
       "  'languageVersion': 2,\n",
       "  'triggers': ['1111112EerJ8jD8Q9jEn4SkmF13XYavkKHY79',\n",
       "   '12xBimKD2mtkcD6LiCMWQrRJ1ddZoxf1DftKPGhVprTXEejCD84',\n",
       "   '14uNSXdQronNDvk2eLjNfP6jcq2jgGmvvWCiREzto9YSdVehMtL'],\n",
       "  'descriptors': ['1111117nFCARCRGf9kTZNkZZ1gdxBSGMJcDFDepCpxZEiVi6dxeWzjnYe6k824CRpppbN6ozi1yxTYWdUj8p1FXvnsMb3U5aj4eDGqXLBEMbw4NzATxWpryAbSYYVSKRft3tM9ppg6hs8z',\n",
       "   '14TEhHzmyFdJXHjPMEGocB8LwQXRFnoVGwZvsk8gdaBUubE7SjRnPd9vJmbLX1g8q2c4ftfK6dYwjjabTg2oz',\n",
       "   '1JAG9KioxWT9xkMzwpwW9iAFqDD5zMRNumWucvJFidxWUHa6ZJUG',\n",
       "   '1DQcwxvzSBfAq3bdXpAgeHYxaNqX9WYGMf7T49gwQFCge1vVuJ5gbxywF2C8HrKbDCVVzhyU3RsXAV3XJJcBq8WEgUT7kA8zHkJXo9svhV2kLycEyxz',\n",
       "   '1rFaSt3S4Lv8cThcfEZmBqxR2AEHGDwpE4ezRudGBbLH4LUFBBSuAXBm8HAMMtvzL31Q8XhraqgmKxeZqGJjdwo3uTsHUAXdZSijzgCkbaGBjwjU',\n",
       "   '13Fz1ZTAHBcA7XaPgtFactV6S9GQDZ29B8qWQyV2h43x8gwoacXSEpKAPSj3KWgEX5RKcZkeuvA9QhXZKwayeciRz95qMRAV2YygF44zdtYzK8mdKaVJGd4yYJrFbytc1T3DF9Asewo52AMdUQCQ7sMinPwe2E6RuRDfXrRTCNgpJbu4G'],\n",
       "  'stateVariables': ['13', '5Z'],\n",
       "  'stateMaps': ['19t', 'MKX', 'goS', '22HP', '2MmL', '2hFG', '32jJ', '3NDF'],\n",
       "  'textual': {'triggers': '1GkUcvQujdsCL4ZctbNAtNNePLrVjD88a5vMpy3LCd8Lf5JyqTzS4wbHwEnZJWMSxYNvfNnRYMSsFsiUTUrVPHa32LTUzqqmf8fCjbQAstU7XBnmtTVKhJ97ofDp9QkLuz7xdpwTLfCXABxtTkksQkjWUFABdp9F7diFtfbcywRF15vsjTeKibyhuY2wj5U9imPBDWqByAxmU3DPTxVHV6Tm',\n",
       "   'descriptors': '138PgHrrzkb8FpK8C9myNw3z8FqGx6T5WUWgn2CEvTf6FFRdTUMpxVhq3cjGBRmBDt1SVPX4coRW29jKwNoizhZmtz4e7fWdAGXMVwzT4NgDrvTPYmuFRTYmxzNrhSDKo3MZykjv82mG4QhNedBpk9KbopKX62nfApkcKHLYjhpaKr6TWoTuLEbxMjh8gi4fBnSthDFArhsFgU3T7uisPooABpcn1poKL5K5GgZEE4ApwhJfHnxcfJnSPeeR4iQXRgy7R1nF3XUeWHLnm6Byy5TXrCSW5TSW8HWccFXjj698sU38AR1Zyvrwva2ychTVaWJ1GncUWBSbvqBEjbfqJyjhZzVrnHKVrjRqXZuMN9bTG5SsNawGsxEVq2ebGBbr5kMAjjoEYH2oH4YWEzqreCyDeREzTv7oZMvHGNMD5cHTsYfke9w7mTbrgSYva49MS7yJnTbBTU2bHtFbpHQ8A8Pdfdmy9QU2DyjwLobCMZAXBKjkgfd25wYZXTvM3CVcDy4cyuF91Rd1txNDbtSiZLYPkFF7crKWMRzzZLUaCFQvfRCrn8cbQEUeHbi1xV2yYWGK8w7FDbyspaMU3Pzv6ShQ9N2i4GdyG73CSD4ktW9wnqFE4CKjyBMsfKv7pdhGpV4uz1dAfLQqBhzAJtwergcZ6aQo3H75YjDBG1vqUFqT9GjpVzPdY5R4qo1LhyCvuuun6d6kNwTmA841TQem2ncFdj5ituyduwSvHCBa9sDtY7TWJjWHDcABpDs3tZQr2cMXaxvSbBXYQBXvJMLgtceK7LJFg3JSqESrAQh9mkf2qGYst58VAYggY5vKAUrpPyxyKHzwUg4YvPCfjifhpio63xjwZYXc1my2boSPmGASMW84igycYPQZqkmiych32qDg8PhzFH9WnciKXTu8hZgPM6QoTz1MMF582UT',\n",
       "   'stateVariables': '126E99hwagqJQBoWnuyiou95',\n",
       "   'stateMaps': '1ooFT7qQoP2TRKCdMCVyJCDW6ryenNa9EQciG6bthg4TS2uPCzUXde3bh6i6F6FFtkRc3wpU6mgVYmV9FDBqgbLdMYM3N59ijxPXQVwhVK5jZCzmjFZSUgktMZfywg6EhB6SRExs5jPfpu21DwwzRNsrtJZNEZtnHYT4ee6S8f86HPgdyCsoTbKNJ1FNeqsqs9p8vR4GcAbC2yxB5mCv7fzqr3j7RXYpLtry7epdSSuyKAzh5gyVFDFhzbqVQDDkxymPRAj8f3sSsLub2qLxJRNqQBSuozAwHSDCGv7cCD8Mp7JprbZZ3Assiom7pFGXb9ccudFvtzf8Mxc46BnzqSqm8mBeHWks8njTXKTV5FyviKn8B6eWGvUE4rBnqWvoaTBUkkPHgN4hC5sz497i2yKvwxgiFRxt1iRRkaZ3nCPno5jvtJ3AtAQufGaa1px7tq1CNteWHf2QHbo8kDD76NZpmqZF1pRxQjwGCtQrnWTZC7BgsN6tgdAmbzu661TtDUagyUMjV8u6sgd3E2L5oHJbzQ8u8'}},\n",
       " 'initData': '152wXV6jXtPZAUkUrXe1uABXHD8wKAiWsNXcjvDsR3B8',\n",
       " 'description': ''}"
      ]
     },
     "execution_count": 11,
     "metadata": {},
     "output_type": "execute_result"
    }
   ],
   "source": [
    "# Token id. Simply replace token id with your own\n",
    "token_id = token_id_from_contract_id(\"CEx4gTxV1Xt2SY3zM8kStMnLr27ZYKUnkHB\", 0)\n",
    "token_id_data_entry = DataEntry(token_id, Type.token_id)\n",
    "\n",
    "channel_contract_init_data_stack = [token_id_data_entry]\n",
    "\n",
    "# Register payment channel\n",
    "# sender = Account(chain=chain, seed=\"<your-seed>\", nonce=0)\n",
    "sender.register_contract(contract, channel_contract_init_data_stack)"
   ]
  },
  {
   "cell_type": "code",
   "execution_count": 12,
   "metadata": {},
   "outputs": [
    {
     "ename": "NameError",
     "evalue": "name 'token_contract_id' is not defined",
     "output_type": "error",
     "traceback": [
      "\u001b[0;31m---------------------------------------------------------------------------\u001b[0m",
      "\u001b[0;31mNameError\u001b[0m                                 Traceback (most recent call last)",
      "\u001b[0;32m<ipython-input-12-727beba18026>\u001b[0m in \u001b[0;36m<module>\u001b[0;34m\u001b[0m\n\u001b[1;32m      2\u001b[0m \u001b[0;34m\u001b[0m\u001b[0m\n\u001b[1;32m      3\u001b[0m \u001b[0missue_data_stack\u001b[0m \u001b[0;34m=\u001b[0m \u001b[0;34m[\u001b[0m\u001b[0missue_amount_data_entry\u001b[0m\u001b[0;34m]\u001b[0m\u001b[0;34m\u001b[0m\u001b[0;34m\u001b[0m\u001b[0m\n\u001b[0;32m----> 4\u001b[0;31m \u001b[0msender\u001b[0m\u001b[0;34m.\u001b[0m\u001b[0mexecute_contract\u001b[0m\u001b[0;34m(\u001b[0m\u001b[0mtoken_contract_id\u001b[0m\u001b[0;34m,\u001b[0m \u001b[0;36m1\u001b[0m\u001b[0;34m,\u001b[0m \u001b[0missue_data_stack\u001b[0m\u001b[0;34m)\u001b[0m\u001b[0;34m\u001b[0m\u001b[0;34m\u001b[0m\u001b[0m\n\u001b[0m",
      "\u001b[0;31mNameError\u001b[0m: name 'token_contract_id' is not defined"
     ]
    }
   ],
   "source": [
    "issue_amount_data_entry = DataEntry(100, Type.amount)\n",
    "\n",
    "issue_data_stack = [issue_amount_data_entry]\n",
    "sender.execute_contract(token_contract_id, 1, issue_data_stack)"
   ]
  },
  {
   "cell_type": "code",
   "execution_count": 13,
   "metadata": {},
   "outputs": [
    {
     "data": {
      "text/plain": [
       "{'type': 9,\n",
       " 'id': 'C13zNWJMDGmxCDgk6JuHwCT3J9sKjzuue6NqjHaMzDws',\n",
       " 'fee': 30000000,\n",
       " 'feeScale': 100,\n",
       " 'timestamp': 1612427612817508096,\n",
       " 'proofs': [{'proofType': 'Curve25519',\n",
       "   'publicKey': '2Xi2mQNA6v4hyiu4D2NHvrrJN49AtCfvmSr3SR7HKH5h',\n",
       "   'address': 'ATroRHz2UHJz7LL5EVD877jZMLPra6XWyJU',\n",
       "   'signature': '4adcCKw9YwYCsH9f8zRWXa6bztbcHSxodhKtPxQrBVicuRKLoqTokjrGYkjTQhy1gP9WEJaMerpUd5tvG3P79iSy'}],\n",
       " 'contractId': 'CEx4gTxV1Xt2SY3zM8kStMnLr27ZYKUnkHB',\n",
       " 'functionIndex': 6,\n",
       " 'functionData': '14VJY12VXLqA885Mk2NzDK3DRGMFzVMKbYYVesoEctjusp8vLTwP2yLzSQgBda75XSXVFti6YgBxyPLRFUnjcZyB',\n",
       " 'attachment': ''}"
      ]
     },
     "execution_count": 13,
     "metadata": {},
     "output_type": "execute_result"
    }
   ],
   "source": [
    "token_contract_id = \"CEx4gTxV1Xt2SY3zM8kStMnLr27ZYKUnkHB\"\n",
    "payment_channel_contract_id = \"CF2Scrag5cuhWeCXtkJr86o8BxQ9Dd4Kcfe\"\n",
    "\n",
    "sender_address_data_entry = DataEntry(sender.address, Type.address)\n",
    "payment_channel_contract_id_data_entry = DataEntry(payment_channel_contract_id, Type.contract_account)\n",
    "deposit_amount_data_entry = DataEntry(50, Type.amount)\n",
    "\n",
    "deposit_data_stack = [sender_address_data_entry, payment_channel_contract_id_data_entry, deposit_amount_data_entry]\n",
    "\n",
    "sender.execute_contract(token_contract_id, 6, deposit_data_stack)"
   ]
  },
  {
   "cell_type": "code",
   "execution_count": 14,
   "metadata": {},
   "outputs": [
    {
     "data": {
      "text/plain": [
       "{'type': 9,\n",
       " 'id': 'AdjHUjUbJLaLZsC7CFw8cSH8ij2Mwk7XeCfeT5Shx4bx',\n",
       " 'fee': 30000000,\n",
       " 'feeScale': 100,\n",
       " 'timestamp': 1612427112088485120,\n",
       " 'proofs': [{'proofType': 'Curve25519',\n",
       "   'publicKey': '2Xi2mQNA6v4hyiu4D2NHvrrJN49AtCfvmSr3SR7HKH5h',\n",
       "   'address': 'ATroRHz2UHJz7LL5EVD877jZMLPra6XWyJU',\n",
       "   'signature': 'yTCpvdx7ytkCmxcTUizSnPs8ETcqZoab783VoMb51FAfBoprRVDKPY2vnwGuwhzuyrrJ8ijGSrwntfMPBh3WMvA'}],\n",
       " 'contractId': 'CEx4gTxV1Xt2SY3zM8kStMnLr27ZYKUnkHB',\n",
       " 'functionIndex': 6,\n",
       " 'functionData': '14VJY12VXLqA885Mk2NzDK3DRGMFzVMKbYYVesoEctjusp8vLTwP2yLzSQgBda75XSXVFti6YgBxyPLRFUnjcZyB',\n",
       " 'attachment': '',\n",
       " 'status': 'Success',\n",
       " 'feeCharged': 30000000,\n",
       " 'height': 15546357}"
      ]
     },
     "execution_count": 14,
     "metadata": {},
     "output_type": "execute_result"
    }
   ],
   "source": [
    "chain.tx(\"AdjHUjUbJLaLZsC7CFw8cSH8ij2Mwk7XeCfeT5Shx4bx\")"
   ]
  },
  {
   "cell_type": "code",
   "execution_count": 15,
   "metadata": {},
   "outputs": [
    {
     "name": "stdout",
     "output_type": "stream",
     "text": [
      "1GqnVHrpkknK7RNMxjrScjUbsMULddjgyX85i\n"
     ]
    }
   ],
   "source": [
    "contractBalance_index_byte = struct.pack(\">B\", 0)\n",
    "address_data_index_byte = struct.pack(\">B\", 2)\n",
    "address_bytes = base58.b58decode(\"ATroRHz2UHJz7LL5EVD877jZMLPra6XWyJU\")\n",
    "contractBalance_key_bytes = contractBalance_index_byte + address_data_index_byte + address_bytes\n",
    "contractBalance_key_string = base58.b58encode(contractBalance_key_bytes).decode()\n",
    "print(contractBalance_key_string)"
   ]
  },
  {
   "cell_type": "code",
   "execution_count": 16,
   "metadata": {},
   "outputs": [
    {
     "name": "stdout",
     "output_type": "stream",
     "text": [
      "TWt3D7RwZxjZfTMPu8fwko3VWxgtjhpavKFNVxEsL\n"
     ]
    }
   ],
   "source": [
    "print(token_id)"
   ]
  },
  {
   "cell_type": "code",
   "execution_count": null,
   "metadata": {},
   "outputs": [],
   "source": []
  }
 ],
 "metadata": {
  "kernelspec": {
   "display_name": "Python 3",
   "language": "python",
   "name": "python3"
  },
  "language_info": {
   "codemirror_mode": {
    "name": "ipython",
    "version": 3
   },
   "file_extension": ".py",
   "mimetype": "text/x-python",
   "name": "python",
   "nbconvert_exporter": "python",
   "pygments_lexer": "ipython3",
   "version": "3.8.5"
  }
 },
 "nbformat": 4,
 "nbformat_minor": 4
}
